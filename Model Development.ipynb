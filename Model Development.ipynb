{
 "cells": [
  {
   "cell_type": "markdown",
   "metadata": {},
   "source": [
    "## Features:\n",
    "\n",
    "- brand\n",
    "- model\n",
    "- speed\n",
    "- brake type \n",
    "- time til end\n",
    "- current_bid_cnt\n",
    "- frame size / stand over height\n",
    "- frame material\n",
    "- rim material\n",
    "- current price"
   ]
  },
  {
   "cell_type": "code",
   "execution_count": 196,
   "metadata": {},
   "outputs": [],
   "source": [
    "import pandas as pd\n",
    "import glob\n",
    "import numpy as np\n",
    "\n",
    "import warnings\n",
    "warnings.filterwarnings(\"ignore\")"
   ]
  },
  {
   "cell_type": "code",
   "execution_count": 34,
   "metadata": {},
   "outputs": [],
   "source": [
    "def append_data(csv):\n",
    "    '''\n",
    "    combines individual csv files\n",
    "    '''\n",
    "    df_list = []\n",
    "    \n",
    "    for i in csv:\n",
    "        \n",
    "        df = pd.read_csv(i)\n",
    "        df_list.append(df)\n",
    "        \n",
    "    combined = pd.concat(df_list)\n",
    "    \n",
    "    return combined\n",
    "\n",
    "\n",
    "def main():\n",
    "    \n",
    "    return df "
   ]
  },
  {
   "cell_type": "code",
   "execution_count": 254,
   "metadata": {
    "scrolled": true
   },
   "outputs": [
    {
     "name": "stdout",
     "output_type": "stream",
     "text": [
      "Shape of df:  (1943, 44)\n"
     ]
    }
   ],
   "source": [
    "files = glob.glob('*.csv')\n",
    "df = append_data(files)\n",
    "print('Shape of df: ', df.shape)"
   ]
  },
  {
   "cell_type": "code",
   "execution_count": 255,
   "metadata": {},
   "outputs": [],
   "source": [
    "df['brand'] = [x.split(' ')[0].lower() if len(x) > 0 else x for x in df['name'].tolist()]\n",
    "df['model'] = [x.split(' ')[1].lower() if len(x) > 0 else x for x in df['name'].tolist()]\n",
    "\n",
    "# df['brand'].unique()\n",
    "# manually created\n",
    "brand_list = ['trek', 'giant', 'norco', 'northrock', 'columbia', 'ccm',\n",
    "       'nishiki', 'movelo', 'schwinn', \n",
    "       'specialized', 'timberline',\n",
    "       'apollo', 'marin', 'nakamura', 'swift', 'supercycle',\n",
    "       'devinci', 'khs', 'diamondback', 'debranded', 'hyper',\n",
    "       'diadora', 'reebok',\n",
    "       'bianchi', 'huffy', 'arashi', 'mongoose',\n",
    "        'raleigh', 'cannondale', 'gt', 'kona', 'renegade']\n",
    "\n",
    "df = df[df['brand'].isin(brand_list)]\n",
    "df = df[~df['model'].str.contains('bmx')]\n",
    "df = df[['name', 'brand', 'model', 'timetilend', 'current_bid_cnt', 'frame size', 'stand over height', 'speed', 'gear shifter',\n",
    "       'front derailleur', 'rear derailleur', 'brake lever', 'brake', 'brake type', 'crank set', 'price']]\n",
    "\n",
    "# clean columns\n",
    "df['model'] = df['model'].apply(lambda x: 'no model provided' if 'speed' in x else x)\n",
    "df['timetilend'] = df['timetilend'].str.strip().str.replace('\\n', '').str.replace(',', ' ')\n",
    "df['gear shifter brand'] = [str(x).split(' ')[0].lower() if len(str(x)) > 0 else x for x in df['gear shifter'].tolist()]\n",
    "df['gear shifter brand'] = df['gear shifter brand'].str.replace('nan', 'generic').str.replace(';', '')\n",
    "df['front derailleur brand'] = [str(x).split(' ')[0].lower() if len(str(x)) > 0 else x for x in df['front derailleur'].tolist()]\n",
    "df['front derailleur brand'] = df['front derailleur brand'].str.replace('nan', 'generic').str.replace(';', '')\n",
    "df['rear derailleur brand'] = [str(x).split(' ')[0].lower() if len(str(x)) > 0 else x for x in df['rear derailleur'].tolist()]\n",
    "df['rear derailleur brand'] = df['rear derailleur brand'].str.replace('nan', 'generic').str.replace(';', '')\n",
    "df['brake lever brand'] = [str(x).split(' ')[0].lower() if len(str(x)) > 0 else x for x in df['brake lever'].tolist()]\n",
    "df['brake lever brand'] = df['brake lever brand'].str.replace('nan', 'generic').str.replace(';', '')\n",
    "df['crank set brand'] = [str(x).split(' ')[0].lower() if len(str(x)) > 0 else x for x in df['crank set'].tolist()]\n",
    "df['crank set brand'] = df['crank set brand'].str.replace('nan', 'geneic').str.replace(';', '').str.replace('sr', 'sr suntour')\n",
    "df['brake'] = df['brake'].replace(np.nan, 'nan')\n",
    "df['brake type'] = df['brake type'].replace(np.nan, 'nan')\n",
    "df['brake type'] = df['brake'] + df['brake type']\n",
    "df['brake type'] = df['brake type'].apply(lambda x: 'disc' if 'disc' in x else 'rim')\n",
    "df['speed'] = df['speed'].replace('single', 1).replace('single/fixed gear', 1).replace('fixed gear', 1).replace(np.nan, 0)\n",
    "df['timetilend'] = pd.to_timedelta(df['timetilend']).dt.total_seconds()/3600/24"
   ]
  },
  {
   "cell_type": "code",
   "execution_count": 256,
   "metadata": {},
   "outputs": [],
   "source": [
    "df_final = df[['brand', 'model', 'speed', 'timetilend', 'current_bid_cnt', 'stand over height', 'gear shifter brand',\n",
    "              'front derailleur brand', 'rear derailleur brand', 'brake lever brand', 'crank set brand', \n",
    "               'brake type', 'price']]"
   ]
  },
  {
   "cell_type": "code",
   "execution_count": 257,
   "metadata": {},
   "outputs": [],
   "source": [
    "df_final['gear shifter brand'] = df_final['gear shifter brand'].apply(lambda x: x if ('shimano' in x or 'sram' in x or 'suntour' in x) else 'generic')\n",
    "df_final['front derailleur brand'] = df_final['front derailleur brand'].apply(lambda x: x if ('shimano' in x or 'sram' in x or 'suntour' in x) else 'generic')\n",
    "df_final['rear derailleur brand'] = df_final['rear derailleur brand'].apply(lambda x: x if ('shimano' in x or 'sram' in x or 'suntour' in x) else 'generic')\n",
    "df_final['crank set brand'] = df_final['crank set brand'].apply(lambda x: x if ('shimano' in x or 'sram' in x or 'fsa' in x) else 'generic')\n",
    "df_final['stand over height'] = df_final['stand over height'].apply(lambda x: str(x)[:4]).str.replace('\"', '').str.replace(\";\", '').astype(float)"
   ]
  },
  {
   "cell_type": "code",
   "execution_count": 262,
   "metadata": {},
   "outputs": [],
   "source": [
    "df_final['speed'] = df_final['speed'].astype(float)\n",
    "df_final['stand over height'].fillna((df_final['stand over height'].mean()), inplace=True)"
   ]
  },
  {
   "cell_type": "code",
   "execution_count": 259,
   "metadata": {
    "scrolled": true
   },
   "outputs": [
    {
     "name": "stdout",
     "output_type": "stream",
     "text": [
      "<class 'pandas.core.frame.DataFrame'>\n",
      "Int64Index: 1311 entries, 0 to 47\n",
      "Data columns (total 13 columns):\n",
      " #   Column                  Non-Null Count  Dtype  \n",
      "---  ------                  --------------  -----  \n",
      " 0   brand                   1311 non-null   object \n",
      " 1   model                   1311 non-null   object \n",
      " 2   speed                   1311 non-null   float64\n",
      " 3   timetilend              1311 non-null   float64\n",
      " 4   current_bid_cnt         1311 non-null   int64  \n",
      " 5   stand over height       1301 non-null   float64\n",
      " 6   gear shifter brand      1311 non-null   object \n",
      " 7   front derailleur brand  1311 non-null   object \n",
      " 8   rear derailleur brand   1311 non-null   object \n",
      " 9   brake lever brand       1311 non-null   object \n",
      " 10  crank set brand         1311 non-null   object \n",
      " 11  brake type              1311 non-null   object \n",
      " 12  price                   1311 non-null   float64\n",
      "dtypes: float64(4), int64(1), object(8)\n",
      "memory usage: 143.4+ KB\n"
     ]
    }
   ],
   "source": [
    "df_final.info()"
   ]
  },
  {
   "cell_type": "code",
   "execution_count": 260,
   "metadata": {
    "scrolled": true
   },
   "outputs": [
    {
     "data": {
      "text/html": [
       "<div>\n",
       "<style scoped>\n",
       "    .dataframe tbody tr th:only-of-type {\n",
       "        vertical-align: middle;\n",
       "    }\n",
       "\n",
       "    .dataframe tbody tr th {\n",
       "        vertical-align: top;\n",
       "    }\n",
       "\n",
       "    .dataframe thead th {\n",
       "        text-align: right;\n",
       "    }\n",
       "</style>\n",
       "<table border=\"1\" class=\"dataframe\">\n",
       "  <thead>\n",
       "    <tr style=\"text-align: right;\">\n",
       "      <th></th>\n",
       "      <th>brand</th>\n",
       "      <th>model</th>\n",
       "      <th>speed</th>\n",
       "      <th>timetilend</th>\n",
       "      <th>current_bid_cnt</th>\n",
       "      <th>stand over height</th>\n",
       "      <th>gear shifter brand</th>\n",
       "      <th>front derailleur brand</th>\n",
       "      <th>rear derailleur brand</th>\n",
       "      <th>brake lever brand</th>\n",
       "      <th>crank set brand</th>\n",
       "      <th>brake type</th>\n",
       "      <th>price</th>\n",
       "    </tr>\n",
       "  </thead>\n",
       "  <tbody>\n",
       "    <tr>\n",
       "      <th>0</th>\n",
       "      <td>trek</td>\n",
       "      <td>crossrip</td>\n",
       "      <td>24.0</td>\n",
       "      <td>0.124769</td>\n",
       "      <td>83</td>\n",
       "      <td>31.0</td>\n",
       "      <td>shimano</td>\n",
       "      <td>shimano</td>\n",
       "      <td>shimano</td>\n",
       "      <td>integrated</td>\n",
       "      <td>fsa</td>\n",
       "      <td>disc</td>\n",
       "      <td>1111.75</td>\n",
       "    </tr>\n",
       "    <tr>\n",
       "      <th>1</th>\n",
       "      <td>trek</td>\n",
       "      <td>6000</td>\n",
       "      <td>30.0</td>\n",
       "      <td>0.135150</td>\n",
       "      <td>48</td>\n",
       "      <td>31.0</td>\n",
       "      <td>shimano</td>\n",
       "      <td>shimano</td>\n",
       "      <td>shimano</td>\n",
       "      <td>shimano</td>\n",
       "      <td>shimano</td>\n",
       "      <td>disc</td>\n",
       "      <td>526.75</td>\n",
       "    </tr>\n",
       "    <tr>\n",
       "      <th>2</th>\n",
       "      <td>giant</td>\n",
       "      <td>revel</td>\n",
       "      <td>24.0</td>\n",
       "      <td>0.145544</td>\n",
       "      <td>78</td>\n",
       "      <td>31.0</td>\n",
       "      <td>shimano</td>\n",
       "      <td>shimano</td>\n",
       "      <td>shimano</td>\n",
       "      <td>shimano</td>\n",
       "      <td>shimano</td>\n",
       "      <td>disc</td>\n",
       "      <td>432.75</td>\n",
       "    </tr>\n",
       "    <tr>\n",
       "      <th>3</th>\n",
       "      <td>norco</td>\n",
       "      <td>storm</td>\n",
       "      <td>24.0</td>\n",
       "      <td>0.155926</td>\n",
       "      <td>136</td>\n",
       "      <td>28.0</td>\n",
       "      <td>shimano</td>\n",
       "      <td>shimano</td>\n",
       "      <td>shimano</td>\n",
       "      <td>tektro</td>\n",
       "      <td>generic</td>\n",
       "      <td>disc</td>\n",
       "      <td>556.75</td>\n",
       "    </tr>\n",
       "    <tr>\n",
       "      <th>4</th>\n",
       "      <td>northrock</td>\n",
       "      <td>xc27</td>\n",
       "      <td>21.0</td>\n",
       "      <td>0.166319</td>\n",
       "      <td>118</td>\n",
       "      <td>30.0</td>\n",
       "      <td>generic</td>\n",
       "      <td>shimano</td>\n",
       "      <td>shimano</td>\n",
       "      <td>shimano</td>\n",
       "      <td>shimano</td>\n",
       "      <td>disc</td>\n",
       "      <td>346.75</td>\n",
       "    </tr>\n",
       "  </tbody>\n",
       "</table>\n",
       "</div>"
      ],
      "text/plain": [
       "       brand     model  speed  timetilend  current_bid_cnt  stand over height  \\\n",
       "0       trek  crossrip   24.0    0.124769               83               31.0   \n",
       "1       trek      6000   30.0    0.135150               48               31.0   \n",
       "2      giant     revel   24.0    0.145544               78               31.0   \n",
       "3      norco     storm   24.0    0.155926              136               28.0   \n",
       "4  northrock      xc27   21.0    0.166319              118               30.0   \n",
       "\n",
       "  gear shifter brand front derailleur brand rear derailleur brand  \\\n",
       "0            shimano                shimano               shimano   \n",
       "1            shimano                shimano               shimano   \n",
       "2            shimano                shimano               shimano   \n",
       "3            shimano                shimano               shimano   \n",
       "4            generic                shimano               shimano   \n",
       "\n",
       "  brake lever brand crank set brand brake type    price  \n",
       "0        integrated             fsa       disc  1111.75  \n",
       "1           shimano         shimano       disc   526.75  \n",
       "2           shimano         shimano       disc   432.75  \n",
       "3            tektro         generic       disc   556.75  \n",
       "4           shimano         shimano       disc   346.75  "
      ]
     },
     "execution_count": 260,
     "metadata": {},
     "output_type": "execute_result"
    }
   ],
   "source": [
    "df_final.head()"
   ]
  },
  {
   "cell_type": "markdown",
   "metadata": {},
   "source": [
    "## Create a regression model"
   ]
  },
  {
   "cell_type": "code",
   "execution_count": 309,
   "metadata": {},
   "outputs": [],
   "source": [
    "from sklearn.model_selection import train_test_split\n",
    "from sklearn.pipeline import make_pipeline\n",
    "from sklearn.impute import SimpleImputer\n",
    "from sklearn.compose import make_column_transformer\n",
    "from sklearn.metrics import mean_squared_error, r2_score\n",
    "\n",
    "from sklearn.preprocessing import OneHotEncoder, StandardScaler\n",
    "\n",
    "from xgboost import XGBRegressor\n",
    "from sklearn.svm import LinearSVR\n",
    "from sklearn.neighbors import KNeighborsRegressor\n",
    "from sklearn.linear_model import LinearRegression, RidgeCV\n",
    "from sklearn.tree import DecisionTreeRegressor\n",
    "from sklearn.ensemble import RandomForestRegressor, StackingRegressor\n",
    "\n",
    "\n",
    "from lazypredict.Supervised import LazyRegressor\n",
    "from sklearn import datasets\n",
    "from sklearn.utils import shuffle\n",
    "import numpy as np"
   ]
  },
  {
   "cell_type": "code",
   "execution_count": 268,
   "metadata": {},
   "outputs": [],
   "source": [
    "X = df_final.drop(columns = 'price')\n",
    "y = df_final['price']\n",
    "\n",
    "X_train, X_test, y_train, y_test = train_test_split(X, y, test_size=0.3, random_state=42)"
   ]
  },
  {
   "cell_type": "markdown",
   "metadata": {},
   "source": [
    "## Output of lazy predict"
   ]
  },
  {
   "cell_type": "code",
   "execution_count": 308,
   "metadata": {
    "scrolled": true
   },
   "outputs": [
    {
     "name": "stderr",
     "output_type": "stream",
     "text": [
      " 37%|███▋      | 16/43 [00:10<00:36,  1.36s/it]"
     ]
    },
    {
     "name": "stdout",
     "output_type": "stream",
     "text": [
      "HuberRegressor model failed to execute\n",
      "'str' object has no attribute 'decode'\n"
     ]
    },
    {
     "name": "stderr",
     "output_type": "stream",
     "text": [
      " 72%|███████▏  | 31/43 [00:13<00:03,  3.52it/s]"
     ]
    },
    {
     "name": "stdout",
     "output_type": "stream",
     "text": [
      "PoissonRegressor model failed to execute\n",
      "'str' object has no attribute 'decode'\n"
     ]
    },
    {
     "name": "stderr",
     "output_type": "stream",
     "text": [
      " 88%|████████▊ | 38/43 [00:15<00:01,  3.12it/s]"
     ]
    },
    {
     "name": "stdout",
     "output_type": "stream",
     "text": [
      "StackingRegressor model failed to execute\n",
      "__init__() missing 1 required positional argument: 'estimators'\n"
     ]
    },
    {
     "name": "stderr",
     "output_type": "stream",
     "text": [
      "100%|██████████| 43/43 [00:16<00:00,  2.65it/s]"
     ]
    },
    {
     "name": "stdout",
     "output_type": "stream",
     "text": [
      "                                                                       R-Squared  \\\n",
      "Model                                                                              \n",
      "ExtraTreesRegressor                                                         0.99   \n",
      "ExtraTreeRegressor                                                          0.98   \n",
      "XGBRegressor                                                                0.98   \n",
      "DecisionTreeRegressor                                                       0.98   \n",
      "RandomForestRegressor                                                       0.98   \n",
      "BaggingRegressor                                                            0.97   \n",
      "LGBMRegressor                                                               0.97   \n",
      "GaussianProcessRegressor                                                    0.97   \n",
      "HistGradientBoostingRegressor                                               0.97   \n",
      "GradientBoostingRegressor                                                   0.95   \n",
      "TransformedTargetRegressor                                                  0.95   \n",
      "LinearRegression                                                            0.95   \n",
      "RidgeCV                                                                     0.95   \n",
      "BayesianRidge                                                               0.95   \n",
      "KNeighborsRegressor                                                         0.94   \n",
      "Ridge                                                                       0.94   \n",
      "KernelRidge                                                                 0.94   \n",
      "LassoCV                                                                     0.93   \n",
      "SGDRegressor                                                                0.93   \n",
      "PassiveAggressiveRegressor                                                  0.91   \n",
      "Lasso                                                                       0.85   \n",
      "MLPRegressor                                                                0.85   \n",
      "OrthogonalMatchingPursuitCV                                                 0.84   \n",
      "OrthogonalMatchingPursuit                                                   0.84   \n",
      "AdaBoostRegressor                                                           0.81   \n",
      "LassoLarsCV                                                                 0.80   \n",
      "LassoLarsIC                                                                 0.80   \n",
      "LarsCV                                                                      0.77   \n",
      "ElasticNetCV                                                                0.73   \n",
      "LassoLars                                                                   0.64   \n",
      "ElasticNet                                                                  0.64   \n",
      "LinearSVR                                                                   0.63   \n",
      "GeneralizedLinearRegressor                                                  0.58   \n",
      "TweedieRegressor                                                            0.58   \n",
      "GammaRegressor                                                              0.57   \n",
      "NuSVR                                                                       0.23   \n",
      "SVR                                                                         0.21   \n",
      "DummyRegressor                                                             -0.01   \n",
      "RANSACRegressor                                      -69883229130518257729536.00   \n",
      "Lars                          -6529676159714067061274473423038243839330484224.00   \n",
      "\n",
      "                                                       RMSE  Time Taken  \n",
      "Model                                                                    \n",
      "ExtraTreesRegressor                                   16.85        0.67  \n",
      "ExtraTreeRegressor                                    23.65        0.03  \n",
      "XGBRegressor                                          28.52        0.27  \n",
      "DecisionTreeRegressor                                 29.43        0.03  \n",
      "RandomForestRegressor                                 29.52        0.72  \n",
      "BaggingRegressor                                      30.30        0.10  \n",
      "LGBMRegressor                                         32.80        0.19  \n",
      "GaussianProcessRegressor                              33.16        0.31  \n",
      "HistGradientBoostingRegressor                         33.78        8.31  \n",
      "GradientBoostingRegressor                             39.92        0.38  \n",
      "TransformedTargetRegressor                            43.22        0.05  \n",
      "LinearRegression                                      43.22        0.03  \n",
      "RidgeCV                                               43.49        0.03  \n",
      "BayesianRidge                                         43.66        0.04  \n",
      "KNeighborsRegressor                                   44.92        0.10  \n",
      "Ridge                                                 46.41        0.02  \n",
      "KernelRidge                                           46.68        0.06  \n",
      "LassoCV                                               49.11        0.26  \n",
      "SGDRegressor                                          49.76        0.29  \n",
      "PassiveAggressiveRegressor                            56.94        0.08  \n",
      "Lasso                                                 71.64        0.04  \n",
      "MLPRegressor                                          71.90        1.79  \n",
      "OrthogonalMatchingPursuitCV                           75.24        0.04  \n",
      "OrthogonalMatchingPursuit                             75.24        0.03  \n",
      "AdaBoostRegressor                                     81.09        0.15  \n",
      "LassoLarsCV                                           82.97        0.12  \n",
      "LassoLarsIC                                           83.14        0.04  \n",
      "LarsCV                                                90.56        0.40  \n",
      "ElasticNetCV                                          96.65        0.18  \n",
      "LassoLars                                            111.73        0.03  \n",
      "ElasticNet                                           111.85        0.02  \n",
      "LinearSVR                                            113.21        0.03  \n",
      "GeneralizedLinearRegressor                           120.45        0.04  \n",
      "TweedieRegressor                                     120.45        0.04  \n",
      "GammaRegressor                                       121.96        0.03  \n",
      "NuSVR                                                163.54        0.22  \n",
      "SVR                                                  165.72        0.34  \n",
      "DummyRegressor                                       187.69        0.02  \n",
      "RANSACRegressor                           49408460033545.54        0.33  \n",
      "Lars                          15102910793551795602849792.00        0.09  \n"
     ]
    },
    {
     "name": "stderr",
     "output_type": "stream",
     "text": [
      "\n"
     ]
    }
   ],
   "source": [
    "reg = LazyRegressor(verbose=0, ignore_warnings=False, custom_metric= None)\n",
    "models, predictions = reg.fit(X_train, X_test, y_train, y_test)\n",
    "\n",
    "print(models)"
   ]
  },
  {
   "cell_type": "markdown",
   "metadata": {},
   "source": [
    "## Using some of the regressors above"
   ]
  },
  {
   "cell_type": "code",
   "execution_count": 318,
   "metadata": {},
   "outputs": [],
   "source": [
    "estimators = [('ridge', RidgeCV()), \n",
    "              ('svr', LinearSVR()),\n",
    "              ('lr', LinearRegression()),\n",
    "              ('dt', DecisionTreeRegressor(random_state=42)), \n",
    "              ('rfc', RandomForestRegressor(random_state= 42)),\n",
    "              ('knn', KNeighborsRegressor()),\n",
    "              ('XGB', XGBRegressor(random_state=42))\n",
    "             ]\n",
    "\n",
    "\n",
    "models = [LinearRegression(), DecisionTreeRegressor(), RandomForestRegressor(), KNeighborsRegressor(),\n",
    "          XGBRegressor(), StackingRegressor(estimators=estimators, final_estimator=XGBRegressor(n_estimators=10, random_state = 42))]"
   ]
  },
  {
   "cell_type": "markdown",
   "metadata": {},
   "source": [
    "## Create a function to evaluate the model using RMSE"
   ]
  },
  {
   "cell_type": "code",
   "execution_count": 316,
   "metadata": {},
   "outputs": [],
   "source": [
    "def predict_price(models):\n",
    "    \n",
    "    for model in models:\n",
    "        \n",
    "        num_proc = make_pipeline(SimpleImputer(strategy='mean'), StandardScaler())\n",
    "\n",
    "        cat_proc = make_pipeline(\n",
    "            SimpleImputer(strategy='constant', fill_value='missing'),\n",
    "            OneHotEncoder(handle_unknown='ignore'))\n",
    "\n",
    "        preprocessor = make_column_transformer((num_proc, ('speed', 'timetilend', 'current_bid_cnt', 'stand over height')),\n",
    "                                               (cat_proc, ('brand', 'model', 'gear shifter brand', 'front derailleur brand', \n",
    "                                                           'rear derailleur brand', 'brake lever brand', 'crank set brand', \n",
    "                                                           'brake type')))\n",
    "\n",
    "        clf = make_pipeline(preprocessor, model)\n",
    "        clf.fit(X_train, y_train)\n",
    "        y_pred = clf.predict(X_test)\n",
    "\n",
    "    \n",
    "        print('Model: ', model, 'RMSE: ', mean_squared_error(y_test, y_pred, squared= False), \n",
    "              'r2: ', r2_score(y_test, y_pred))"
   ]
  },
  {
   "cell_type": "code",
   "execution_count": 319,
   "metadata": {
    "scrolled": true
   },
   "outputs": [
    {
     "name": "stdout",
     "output_type": "stream",
     "text": [
      "Model:  LinearRegression() RMSE:  43.30977621855274 r2:  0.9463039662278199\n",
      "Model:  DecisionTreeRegressor() RMSE:  32.214710389544614 r2:  0.970291632249801\n",
      "Model:  RandomForestRegressor() RMSE:  29.3983666424231 r2:  0.9752590294508876\n",
      "Model:  KNeighborsRegressor() RMSE:  44.91551983084607 r2:  0.9422485105822513\n",
      "Model:  XGBRegressor(base_score=0.5, booster='gbtree', colsample_bylevel=1,\n",
      "             colsample_bynode=1, colsample_bytree=1, gamma=0, gpu_id=-1,\n",
      "             importance_type='gain', interaction_constraints='',\n",
      "             learning_rate=0.300000012, max_delta_step=0, max_depth=6,\n",
      "             min_child_weight=1, missing=nan, monotone_constraints='()',\n",
      "             n_estimators=100, n_jobs=0, num_parallel_tree=1, random_state=0,\n",
      "             reg_alpha=0, reg_lambda=1, scale_pos_weight=1, subsample=1,\n",
      "             tree_method='exact', validate_parameters=1, verbosity=None) RMSE:  28.522165379501132 r2:  0.9767118325100512\n",
      "Model:  StackingRegressor(estimators=[('ridge',\n",
      "                               RidgeCV(alphas=array([ 0.1,  1. , 10. ]))),\n",
      "                              ('svr', LinearSVR()), ('lr', LinearRegression()),\n",
      "                              ('dt', DecisionTreeRegressor(random_state=42)),\n",
      "                              ('rfc', RandomForestRegressor(random_state=42)),\n",
      "                              ('knn', KNeighborsRegressor()),\n",
      "                              ('XGB',\n",
      "                               XGBRegressor(base_score=None, booster=None,\n",
      "                                            colsample_bylevel=None,\n",
      "                                            colsample_bynode=None,\n",
      "                                            colsample_b...\n",
      "                                               importance_type='gain',\n",
      "                                               interaction_constraints=None,\n",
      "                                               learning_rate=None,\n",
      "                                               max_delta_step=None,\n",
      "                                               max_depth=None,\n",
      "                                               min_child_weight=None,\n",
      "                                               missing=nan,\n",
      "                                               monotone_constraints=None,\n",
      "                                               n_estimators=10, n_jobs=None,\n",
      "                                               num_parallel_tree=None,\n",
      "                                               random_state=42, reg_alpha=None,\n",
      "                                               reg_lambda=None,\n",
      "                                               scale_pos_weight=None,\n",
      "                                               subsample=None, tree_method=None,\n",
      "                                               validate_parameters=None,\n",
      "                                               verbosity=None)) RMSE:  26.10015086852945 r2:  0.9804990232757317\n"
     ]
    }
   ],
   "source": [
    "predict_price(models)"
   ]
  },
  {
   "cell_type": "code",
   "execution_count": 351,
   "metadata": {},
   "outputs": [
    {
     "data": {
      "text/plain": [
       "Index(['brand', 'model', 'speed', 'timetilend', 'current_bid_cnt',\n",
       "       'stand over height', 'gear shifter brand', 'front derailleur brand',\n",
       "       'rear derailleur brand', 'brake lever brand', 'crank set brand',\n",
       "       'brake type', 'price'],\n",
       "      dtype='object')"
      ]
     },
     "execution_count": 351,
     "metadata": {},
     "output_type": "execute_result"
    }
   ],
   "source": [
    "df_final.columns"
   ]
  },
  {
   "cell_type": "code",
   "execution_count": 352,
   "metadata": {},
   "outputs": [],
   "source": [
    "df_final.columns = ['brand', 'model', 'speed', 'timetilend', 'current bid count',\n",
    "       'stand over height', 'gear shifter brand', 'front derailleur brand',\n",
    "       'rear derailleur brand', 'brake lever brand', 'crank set brand',\n",
    "       'brake type', 'price']"
   ]
  },
  {
   "cell_type": "code",
   "execution_count": 353,
   "metadata": {},
   "outputs": [
    {
     "data": {
      "text/html": [
       "<div>\n",
       "<style scoped>\n",
       "    .dataframe tbody tr th:only-of-type {\n",
       "        vertical-align: middle;\n",
       "    }\n",
       "\n",
       "    .dataframe tbody tr th {\n",
       "        vertical-align: top;\n",
       "    }\n",
       "\n",
       "    .dataframe thead th {\n",
       "        text-align: right;\n",
       "    }\n",
       "</style>\n",
       "<table border=\"1\" class=\"dataframe\">\n",
       "  <thead>\n",
       "    <tr style=\"text-align: right;\">\n",
       "      <th></th>\n",
       "      <th>brand</th>\n",
       "      <th>model</th>\n",
       "      <th>speed</th>\n",
       "      <th>timetilend</th>\n",
       "      <th>current bid count</th>\n",
       "      <th>stand over height</th>\n",
       "      <th>gear shifter brand</th>\n",
       "      <th>front derailleur brand</th>\n",
       "      <th>rear derailleur brand</th>\n",
       "      <th>brake lever brand</th>\n",
       "      <th>crank set brand</th>\n",
       "      <th>brake type</th>\n",
       "      <th>price</th>\n",
       "    </tr>\n",
       "  </thead>\n",
       "  <tbody>\n",
       "    <tr>\n",
       "      <th>0</th>\n",
       "      <td>trek</td>\n",
       "      <td>crossrip</td>\n",
       "      <td>24.00</td>\n",
       "      <td>0.12</td>\n",
       "      <td>83</td>\n",
       "      <td>31.00</td>\n",
       "      <td>shimano</td>\n",
       "      <td>shimano</td>\n",
       "      <td>shimano</td>\n",
       "      <td>integrated</td>\n",
       "      <td>fsa</td>\n",
       "      <td>disc</td>\n",
       "      <td>1111.75</td>\n",
       "    </tr>\n",
       "    <tr>\n",
       "      <th>1</th>\n",
       "      <td>trek</td>\n",
       "      <td>6000</td>\n",
       "      <td>30.00</td>\n",
       "      <td>0.14</td>\n",
       "      <td>48</td>\n",
       "      <td>31.00</td>\n",
       "      <td>shimano</td>\n",
       "      <td>shimano</td>\n",
       "      <td>shimano</td>\n",
       "      <td>shimano</td>\n",
       "      <td>shimano</td>\n",
       "      <td>disc</td>\n",
       "      <td>526.75</td>\n",
       "    </tr>\n",
       "    <tr>\n",
       "      <th>2</th>\n",
       "      <td>giant</td>\n",
       "      <td>revel</td>\n",
       "      <td>24.00</td>\n",
       "      <td>0.15</td>\n",
       "      <td>78</td>\n",
       "      <td>31.00</td>\n",
       "      <td>shimano</td>\n",
       "      <td>shimano</td>\n",
       "      <td>shimano</td>\n",
       "      <td>shimano</td>\n",
       "      <td>shimano</td>\n",
       "      <td>disc</td>\n",
       "      <td>432.75</td>\n",
       "    </tr>\n",
       "    <tr>\n",
       "      <th>3</th>\n",
       "      <td>norco</td>\n",
       "      <td>storm</td>\n",
       "      <td>24.00</td>\n",
       "      <td>0.16</td>\n",
       "      <td>136</td>\n",
       "      <td>28.00</td>\n",
       "      <td>shimano</td>\n",
       "      <td>shimano</td>\n",
       "      <td>shimano</td>\n",
       "      <td>tektro</td>\n",
       "      <td>generic</td>\n",
       "      <td>disc</td>\n",
       "      <td>556.75</td>\n",
       "    </tr>\n",
       "    <tr>\n",
       "      <th>4</th>\n",
       "      <td>northrock</td>\n",
       "      <td>xc27</td>\n",
       "      <td>21.00</td>\n",
       "      <td>0.17</td>\n",
       "      <td>118</td>\n",
       "      <td>30.00</td>\n",
       "      <td>generic</td>\n",
       "      <td>shimano</td>\n",
       "      <td>shimano</td>\n",
       "      <td>shimano</td>\n",
       "      <td>shimano</td>\n",
       "      <td>disc</td>\n",
       "      <td>346.75</td>\n",
       "    </tr>\n",
       "  </tbody>\n",
       "</table>\n",
       "</div>"
      ],
      "text/plain": [
       "       brand     model  speed  timetilend  current bid count  \\\n",
       "0       trek  crossrip  24.00        0.12                 83   \n",
       "1       trek      6000  30.00        0.14                 48   \n",
       "2      giant     revel  24.00        0.15                 78   \n",
       "3      norco     storm  24.00        0.16                136   \n",
       "4  northrock      xc27  21.00        0.17                118   \n",
       "\n",
       "   stand over height gear shifter brand front derailleur brand  \\\n",
       "0              31.00            shimano                shimano   \n",
       "1              31.00            shimano                shimano   \n",
       "2              31.00            shimano                shimano   \n",
       "3              28.00            shimano                shimano   \n",
       "4              30.00            generic                shimano   \n",
       "\n",
       "  rear derailleur brand brake lever brand crank set brand brake type   price  \n",
       "0               shimano        integrated             fsa       disc 1111.75  \n",
       "1               shimano           shimano         shimano       disc  526.75  \n",
       "2               shimano           shimano         shimano       disc  432.75  \n",
       "3               shimano            tektro         generic       disc  556.75  \n",
       "4               shimano           shimano         shimano       disc  346.75  "
      ]
     },
     "execution_count": 353,
     "metadata": {},
     "output_type": "execute_result"
    }
   ],
   "source": [
    "df_final.head()"
   ]
  },
  {
   "cell_type": "markdown",
   "metadata": {},
   "source": [
    "# Save best model as pkl"
   ]
  },
  {
   "cell_type": "code",
   "execution_count": 322,
   "metadata": {},
   "outputs": [],
   "source": [
    "import joblib"
   ]
  },
  {
   "cell_type": "code",
   "execution_count": 373,
   "metadata": {},
   "outputs": [],
   "source": [
    "num_proc = make_pipeline(SimpleImputer(strategy='mean'), StandardScaler())\n",
    "\n",
    "cat_proc = make_pipeline(\n",
    "    SimpleImputer(strategy='constant', fill_value='missing'),\n",
    "    OneHotEncoder(handle_unknown='ignore'))\n",
    "\n",
    "preprocessor = make_column_transformer((num_proc, ('speed', 'timetilend', 'current bid count', 'stand over height')),\n",
    "                                       (cat_proc, ('brand', 'model', 'gear shifter brand', 'front derailleur brand', \n",
    "                                                   'rear derailleur brand', 'brake lever brand', 'crank set brand', \n",
    "                                                   'brake type')))\n",
    "\n",
    "clf = make_pipeline(preprocessor, StackingRegressor(estimators=estimators, \n",
    "                                                    final_estimator=XGBRegressor(n_estimators=10,\n",
    "                                                                                 random_state = 42)))"
   ]
  },
  {
   "cell_type": "code",
   "execution_count": 377,
   "metadata": {},
   "outputs": [],
   "source": [
    "xgb = make_pipeline(preprocessor, XGBRegressor(n_estimators=10, random_state = 42))"
   ]
  },
  {
   "cell_type": "code",
   "execution_count": 356,
   "metadata": {},
   "outputs": [],
   "source": [
    "X = df_final.drop(columns = 'price')\n",
    "y = df_final['price']\n",
    "\n",
    "X_train, X_test, y_train, y_test = train_test_split(X, y, test_size=0.3, random_state=42)"
   ]
  },
  {
   "cell_type": "code",
   "execution_count": 360,
   "metadata": {},
   "outputs": [
    {
     "data": {
      "text/plain": [
       "Index(['brand', 'model', 'speed', 'timetilend', 'current bid count',\n",
       "       'stand over height', 'gear shifter brand', 'front derailleur brand',\n",
       "       'rear derailleur brand', 'brake lever brand', 'crank set brand',\n",
       "       'brake type'],\n",
       "      dtype='object')"
      ]
     },
     "execution_count": 360,
     "metadata": {},
     "output_type": "execute_result"
    }
   ],
   "source": [
    "X_test.columns"
   ]
  },
  {
   "cell_type": "code",
   "execution_count": 359,
   "metadata": {
    "collapsed": true
   },
   "outputs": [
    {
     "data": {
      "text/plain": [
       "Pipeline(steps=[('columntransformer',\n",
       "                 ColumnTransformer(transformers=[('pipeline-1',\n",
       "                                                  Pipeline(steps=[('simpleimputer',\n",
       "                                                                   SimpleImputer()),\n",
       "                                                                  ('standardscaler',\n",
       "                                                                   StandardScaler())]),\n",
       "                                                  ('speed', 'timetilend',\n",
       "                                                   'current bid count',\n",
       "                                                   'stand over height')),\n",
       "                                                 ('pipeline-2',\n",
       "                                                  Pipeline(steps=[('simpleimputer',\n",
       "                                                                   SimpleImputer(fill_value='missing',\n",
       "                                                                                 strategy='constant')),\n",
       "                                                                  ('onehotencoder...\n",
       "                                                                importance_type='gain',\n",
       "                                                                interaction_constraints=None,\n",
       "                                                                learning_rate=None,\n",
       "                                                                max_delta_step=None,\n",
       "                                                                max_depth=None,\n",
       "                                                                min_child_weight=None,\n",
       "                                                                missing=nan,\n",
       "                                                                monotone_constraints=None,\n",
       "                                                                n_estimators=10,\n",
       "                                                                n_jobs=None,\n",
       "                                                                num_parallel_tree=None,\n",
       "                                                                random_state=42,\n",
       "                                                                reg_alpha=None,\n",
       "                                                                reg_lambda=None,\n",
       "                                                                scale_pos_weight=None,\n",
       "                                                                subsample=None,\n",
       "                                                                tree_method=None,\n",
       "                                                                validate_parameters=None,\n",
       "                                                                verbosity=None)))])"
      ]
     },
     "execution_count": 359,
     "metadata": {},
     "output_type": "execute_result"
    }
   ],
   "source": [
    "clf.fit(X_train, y_train)"
   ]
  },
  {
   "cell_type": "code",
   "execution_count": 378,
   "metadata": {
    "collapsed": true
   },
   "outputs": [
    {
     "data": {
      "text/plain": [
       "Pipeline(steps=[('columntransformer',\n",
       "                 ColumnTransformer(transformers=[('pipeline-1',\n",
       "                                                  Pipeline(steps=[('simpleimputer',\n",
       "                                                                   SimpleImputer()),\n",
       "                                                                  ('standardscaler',\n",
       "                                                                   StandardScaler())]),\n",
       "                                                  ('speed', 'timetilend',\n",
       "                                                   'current bid count',\n",
       "                                                   'stand over height')),\n",
       "                                                 ('pipeline-2',\n",
       "                                                  Pipeline(steps=[('simpleimputer',\n",
       "                                                                   SimpleImputer(fill_value='missing',\n",
       "                                                                                 strategy='constant')),\n",
       "                                                                  ('onehotencoder...\n",
       "                              colsample_bytree=1, gamma=0, gpu_id=-1,\n",
       "                              importance_type='gain',\n",
       "                              interaction_constraints='',\n",
       "                              learning_rate=0.300000012, max_delta_step=0,\n",
       "                              max_depth=6, min_child_weight=1, missing=nan,\n",
       "                              monotone_constraints='()', n_estimators=10,\n",
       "                              n_jobs=0, num_parallel_tree=1, random_state=42,\n",
       "                              reg_alpha=0, reg_lambda=1, scale_pos_weight=1,\n",
       "                              subsample=1, tree_method='exact',\n",
       "                              validate_parameters=1, verbosity=None))])"
      ]
     },
     "execution_count": 378,
     "metadata": {},
     "output_type": "execute_result"
    }
   ],
   "source": [
    "xgb.fit(X_train, y_train)"
   ]
  },
  {
   "cell_type": "code",
   "execution_count": 361,
   "metadata": {},
   "outputs": [
    {
     "data": {
      "text/plain": [
       "['model.pkl']"
      ]
     },
     "execution_count": 361,
     "metadata": {},
     "output_type": "execute_result"
    }
   ],
   "source": [
    "joblib.dump(clf, 'model.pkl')"
   ]
  },
  {
   "cell_type": "code",
   "execution_count": 384,
   "metadata": {},
   "outputs": [
    {
     "data": {
      "text/plain": [
       "['xgb.pkl']"
      ]
     },
     "execution_count": 384,
     "metadata": {},
     "output_type": "execute_result"
    }
   ],
   "source": [
    "joblib.dump(xgb, 'xgb.pkl')"
   ]
  },
  {
   "cell_type": "code",
   "execution_count": 391,
   "metadata": {},
   "outputs": [],
   "source": [
    "test = joblib.load('model.pkl')"
   ]
  },
  {
   "cell_type": "code",
   "execution_count": 385,
   "metadata": {},
   "outputs": [],
   "source": [
    "test2 = joblib.load('xgb.pkl')"
   ]
  },
  {
   "cell_type": "code",
   "execution_count": 375,
   "metadata": {
    "collapsed": true
   },
   "outputs": [
    {
     "data": {
      "text/plain": [
       "Pipeline(steps=[('columntransformer',\n",
       "                 ColumnTransformer(transformers=[('pipeline-1',\n",
       "                                                  Pipeline(steps=[('simpleimputer',\n",
       "                                                                   SimpleImputer()),\n",
       "                                                                  ('standardscaler',\n",
       "                                                                   StandardScaler())]),\n",
       "                                                  ('speed', 'timetilend',\n",
       "                                                   'current bid count',\n",
       "                                                   'stand over height')),\n",
       "                                                 ('pipeline-2',\n",
       "                                                  Pipeline(steps=[('simpleimputer',\n",
       "                                                                   SimpleImputer(fill_value='missing',\n",
       "                                                                                 strategy='constant')),\n",
       "                                                                  ('onehotencoder...\n",
       "                                                                importance_type='gain',\n",
       "                                                                interaction_constraints=None,\n",
       "                                                                learning_rate=None,\n",
       "                                                                max_delta_step=None,\n",
       "                                                                max_depth=None,\n",
       "                                                                min_child_weight=None,\n",
       "                                                                missing=nan,\n",
       "                                                                monotone_constraints=None,\n",
       "                                                                n_estimators=10,\n",
       "                                                                n_jobs=None,\n",
       "                                                                num_parallel_tree=None,\n",
       "                                                                random_state=42,\n",
       "                                                                reg_alpha=None,\n",
       "                                                                reg_lambda=None,\n",
       "                                                                scale_pos_weight=None,\n",
       "                                                                subsample=None,\n",
       "                                                                tree_method=None,\n",
       "                                                                validate_parameters=None,\n",
       "                                                                verbosity=None)))])"
      ]
     },
     "execution_count": 375,
     "metadata": {},
     "output_type": "execute_result"
    }
   ],
   "source": [
    "test"
   ]
  },
  {
   "cell_type": "markdown",
   "metadata": {},
   "source": [
    "## Test case"
   ]
  },
  {
   "cell_type": "code",
   "execution_count": 392,
   "metadata": {},
   "outputs": [
    {
     "data": {
      "text/plain": [
       "array([620.68335], dtype=float32)"
      ]
     },
     "execution_count": 392,
     "metadata": {},
     "output_type": "execute_result"
    }
   ],
   "source": [
    "test.predict(pd.DataFrame([['trek', 'crossgrip', 24, 0.12, 83, 31, 'shimano', 'shimano', 'shimano', 'shimano', 'fsa', 'disc']],\n",
    "           columns=['brand', 'model', 'speed', 'timetilend', 'current bid count',\n",
    "       'stand over height', 'gear shifter brand', 'front derailleur brand',\n",
    "       'rear derailleur brand', 'brake lever brand', 'crank set brand',\n",
    "       'brake type']))"
   ]
  },
  {
   "cell_type": "code",
   "execution_count": 387,
   "metadata": {},
   "outputs": [
    {
     "data": {
      "text/plain": [
       "array([574.60065], dtype=float32)"
      ]
     },
     "execution_count": 387,
     "metadata": {},
     "output_type": "execute_result"
    }
   ],
   "source": [
    "test2.predict(pd.DataFrame([['trek', 'crossgrip', 24, 0.12, 83, 31, 'shimano', 'shimano', 'shimano', 'shimano', 'fsa', 'disc']],\n",
    "           columns=['brand', 'model', 'speed', 'timetilend', 'current bid count',\n",
    "       'stand over height', 'gear shifter brand', 'front derailleur brand',\n",
    "       'rear derailleur brand', 'brake lever brand', 'crank set brand',\n",
    "       'brake type']))"
   ]
  }
 ],
 "metadata": {
  "kernelspec": {
   "display_name": "Python 3",
   "language": "python",
   "name": "python3"
  },
  "language_info": {
   "codemirror_mode": {
    "name": "ipython",
    "version": 3
   },
   "file_extension": ".py",
   "mimetype": "text/x-python",
   "name": "python",
   "nbconvert_exporter": "python",
   "pygments_lexer": "ipython3",
   "version": "3.8.3"
  }
 },
 "nbformat": 4,
 "nbformat_minor": 4
}
